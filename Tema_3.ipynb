{
  "nbformat": 4,
  "nbformat_minor": 0,
  "metadata": {
    "colab": {
      "name": "Tema 3.ipynb",
      "version": "0.3.2",
      "provenance": []
    },
    "kernelspec": {
      "name": "python3",
      "display_name": "Python 3"
    }
  },
  "cells": [
    {
      "metadata": {
        "id": "hnF0MPsqZjWb",
        "colab_type": "text"
      },
      "cell_type": "markdown",
      "source": [
        "# Tema 3 Esquemes algorísmics bàsics\n",
        "\n",
        "Una  vegada  vistes  les  eines  bàsiques  necessàries  per  poder  construir  algorismes,  és  el moment  d’estudiar  com  construir–ne  de  complexes.  \n",
        "\n",
        "Durant  tot  el  curs  es  veurà  que  a partir  de  les  composicions  bàsiques,\n",
        "aplicades  a  seqüències,  es  poden  resoldre  una ampla varietat de problemes."
      ]
    },
    {
      "metadata": {
        "id": "cT3Ev4Y8ZsdZ",
        "colab_type": "text"
      },
      "cell_type": "markdown",
      "source": [
        "## El concepte de seqüència.\n",
        "\n",
        "S’enten  com  a  seqüència  aquell  conjunt  d'elements  que  verifiquen  les  següents condicions: \n",
        "\n",
        "- Existeix un primer element al que es pot accedir. \n",
        "- Existeix  una  relació  de  successió  entre  tots  els  elements.  \n",
        "- Tots  els  elements tenen  un  successor  excepte  el  darrer  i  amb  aquesta relació  es  pot  accedir  a  la resta d'elements de la seqüència.\n",
        "- Existeix un darrer element i aquest element es pot identificar.\n",
        "\n",
        "La primera passa a realitzar és identificar quin element tractar: lletres, nombres, booleans, paraules..."
      ]
    },
    {
      "metadata": {
        "id": "E7EKdNG6aY0b",
        "colab_type": "text"
      },
      "cell_type": "markdown",
      "source": [
        "El tractament de les seqüències es realitza començant pel primer element i accedint a la resta  amb  la  relació  de  successió.  \n",
        "\n",
        "Amb  aquest  tractament  seqüencial  es  poden  utilitzar dos esquemes bàsics:\n",
        "\n",
        "- **Un esquema de recorregut** on es pretén realitzar un determinat tractament per a cada un dels elements de la seqüència. En aquest cas el tractament s'acabarà al detectar el final de la seqüència.\n",
        "- **Un esquema  de  cerca**  on  es  pretén  verificar  l'existència  d'un  element dins  la seqüència. Aquest tractament pot acabar quan l'element s'ha trobat o quan s'ha arribat al final de la seqüència per què l'element no hi era."
      ]
    },
    {
      "metadata": {
        "id": "NtqB-WcAZi5G",
        "colab_type": "text"
      },
      "cell_type": "markdown",
      "source": [
        "## Esquema general de recorregut\n",
        "\n",
        "El  recorregut  és  el   mecanisme  que  permet  aplicar  una determinada operació a tots els elements que formen part d’una seqüència. \n",
        "\n",
        "És important tenir present sempre el fet que el tractament s’haurà de començar amb el primer element i  no  acabarà  fins  que  s’hagi  aplicat  al  darrer  element  de  la  seqüència.  \n",
        "\n",
        "En  determinades circumstàncies  és  possible  que  pel  cas  del  darrer  element  s’hagi  de  fer  un  tractament específic només per a ell.\n",
        "\n",
        "Aquest és l'esquema d'un recorregut:\n",
        "\n",
        "```\n",
        "inicialització \n",
        "situar-se sobre el primer element \n",
        "\n",
        "mentre no final:\n",
        "        tractar element actual    \n",
        "        situar-se sobre el següent element\n",
        "\n",
        "tractament de final \n",
        "donar resultat\n",
        "```\n",
        "\n",
        "\n",
        "Un exemple d'un recorregut és fer un programa que compta el nombre d'aparicions de la lletra *'a'* en un text.\n",
        "\n",
        "Cal considerar que el caràcter '.' s'utilitzarà com a darrer element per indicar el final de la seqüència (durant tot el curs)\n"
      ]
    },
    {
      "metadata": {
        "id": "LLPQsVCeX7c1",
        "colab_type": "code",
        "colab": {}
      },
      "cell_type": "code",
      "source": [
        "import sys\n",
        "\n",
        "lletra = sys.stdin.read(1)\n",
        "\n",
        "while lletra != '.':\n",
        "  \n",
        "  if lletra == 'a':\n",
        "    nombre = nombre +1\n",
        "    \n",
        "  lletra = sys.stdin.read(1)"
      ],
      "execution_count": 0,
      "outputs": []
    },
    {
      "metadata": {
        "id": "hQeFxtRlg-d6",
        "colab_type": "text"
      },
      "cell_type": "markdown",
      "source": [
        "## Esquema general de cerca\n",
        "\n",
        "L’esquema  general  de  cerca  és  molt  semblant  al  de  recorregut,  es  basa  com  ell  en  un bucle  per  anar  tractant  els  successius  elements  de la  seqüència. \n",
        "\n",
        "La  principal  diferència es troba precisament en la condició d’acabament del bucle. L’esquema general de cerca consisteix en les següents operacions:\n",
        "\n",
        "\n",
        "\n",
        "```\n",
        "inicialització \n",
        "situar-se sobre el primer element \n",
        "mentre no final i no trobat:\n",
        "        tractar element actual\n",
        "        situar-se sobre el següent element\n",
        "\n",
        "tractament de final \n",
        "actuar segons els resultats\n",
        "```\n",
        "\n",
        "A continuació veurem un exemple d'un programa que realitza una cerca. \n",
        "\n",
        "Realitzarem un programa que cerqui la primera vocal d'una seqüència.\n",
        "\n"
      ]
    },
    {
      "metadata": {
        "id": "LyaCM5STZiWI",
        "colab_type": "code",
        "colab": {}
      },
      "cell_type": "code",
      "source": [
        "import sys\n",
        "\n",
        "lletra = sys.stdin.read(1)\n",
        "\n",
        "while lletra != '.' and (lletra != 'a' or lletra != 'e' or lletra != 'i' or lletra != 'o' or lletra != 'u'):\n",
        "  \n",
        "  lletra = sys.stdin.read(1)\n",
        "  \n",
        "if(lletra != .):\n",
        "  print(\"La primera vocal és: \" + lletra)\n",
        "  \n",
        "else:\n",
        "  print (\"No he trobat cap vocal\")"
      ],
      "execution_count": 0,
      "outputs": []
    },
    {
      "metadata": {
        "id": "KaM6-tf1kaym",
        "colab_type": "text"
      },
      "cell_type": "markdown",
      "source": [
        "La condició de trobat és  un poc llarga, es pot  fer ús d’una  variable booleana per poder simplificar  les  condicions. "
      ]
    },
    {
      "metadata": {
        "id": "QxC0OenDkiZj",
        "colab_type": "code",
        "colab": {
          "base_uri": "https://localhost:8080/",
          "height": 358
        },
        "outputId": "4c8780e2-e85f-4dd2-87d6-cd0e89069544"
      },
      "cell_type": "code",
      "source": [
        "import sys\n",
        "\n",
        "lletra = ' '\n",
        "trobat = False\n",
        "\n",
        "while lletra != '.' and not trobat:\n",
        "  \n",
        "  lletra = sys.stdin.read(1)\n",
        "  \n",
        "  if(lletra == 'a' or lletra == 'e' or lletra == 'i' or lletra == 'o' or lletra == 'u'):\n",
        "    trobat = True\n",
        "  \n",
        "\n",
        "if trobat == True:\n",
        "  \n",
        "  print(\"La primera vocal és: \" + lletra)\n",
        "  \n",
        "else:\n",
        "  \n",
        "  print (\"No he trobat cap vocal\")"
      ],
      "execution_count": 1,
      "outputs": [
        {
          "output_type": "error",
          "ename": "KeyboardInterrupt",
          "evalue": "ignored",
          "traceback": [
            "\u001b[0;31m---------------------------------------------------------------------------\u001b[0m",
            "\u001b[0;31mKeyboardInterrupt\u001b[0m                         Traceback (most recent call last)",
            "\u001b[0;32m<ipython-input-1-d5c38329a182>\u001b[0m in \u001b[0;36m<module>\u001b[0;34m()\u001b[0m\n\u001b[1;32m      6\u001b[0m \u001b[0;32mwhile\u001b[0m \u001b[0mlletra\u001b[0m \u001b[0;34m!=\u001b[0m \u001b[0;34m'.'\u001b[0m \u001b[0;32mand\u001b[0m \u001b[0;32mnot\u001b[0m \u001b[0mtrobat\u001b[0m\u001b[0;34m:\u001b[0m\u001b[0;34m\u001b[0m\u001b[0;34m\u001b[0m\u001b[0m\n\u001b[1;32m      7\u001b[0m \u001b[0;34m\u001b[0m\u001b[0m\n\u001b[0;32m----> 8\u001b[0;31m   \u001b[0mlletra\u001b[0m \u001b[0;34m=\u001b[0m \u001b[0msys\u001b[0m\u001b[0;34m.\u001b[0m\u001b[0mstdin\u001b[0m\u001b[0;34m.\u001b[0m\u001b[0mread\u001b[0m\u001b[0;34m(\u001b[0m\u001b[0;36m1\u001b[0m\u001b[0;34m)\u001b[0m\u001b[0;34m\u001b[0m\u001b[0;34m\u001b[0m\u001b[0m\n\u001b[0m\u001b[1;32m      9\u001b[0m \u001b[0;34m\u001b[0m\u001b[0m\n\u001b[1;32m     10\u001b[0m   \u001b[0;32mif\u001b[0m\u001b[0;34m(\u001b[0m\u001b[0mlletra\u001b[0m \u001b[0;34m==\u001b[0m \u001b[0;34m'a'\u001b[0m \u001b[0;32mor\u001b[0m \u001b[0mlletra\u001b[0m \u001b[0;34m==\u001b[0m \u001b[0;34m'e'\u001b[0m \u001b[0;32mor\u001b[0m \u001b[0mlletra\u001b[0m \u001b[0;34m==\u001b[0m \u001b[0;34m'i'\u001b[0m \u001b[0;32mor\u001b[0m \u001b[0mlletra\u001b[0m \u001b[0;34m==\u001b[0m \u001b[0;34m'o'\u001b[0m \u001b[0;32mor\u001b[0m \u001b[0mlletra\u001b[0m \u001b[0;34m==\u001b[0m \u001b[0;34m'u'\u001b[0m\u001b[0;34m)\u001b[0m\u001b[0;34m:\u001b[0m\u001b[0;34m\u001b[0m\u001b[0;34m\u001b[0m\u001b[0m\n",
            "\u001b[0;32m/usr/lib/python3.6/codecs.py\u001b[0m in \u001b[0;36mdecode\u001b[0;34m(self, input, final)\u001b[0m\n\u001b[1;32m    316\u001b[0m         \u001b[0;32mraise\u001b[0m \u001b[0mNotImplementedError\u001b[0m\u001b[0;34m\u001b[0m\u001b[0;34m\u001b[0m\u001b[0m\n\u001b[1;32m    317\u001b[0m \u001b[0;34m\u001b[0m\u001b[0m\n\u001b[0;32m--> 318\u001b[0;31m     \u001b[0;32mdef\u001b[0m \u001b[0mdecode\u001b[0m\u001b[0;34m(\u001b[0m\u001b[0mself\u001b[0m\u001b[0;34m,\u001b[0m \u001b[0minput\u001b[0m\u001b[0;34m,\u001b[0m \u001b[0mfinal\u001b[0m\u001b[0;34m=\u001b[0m\u001b[0;32mFalse\u001b[0m\u001b[0;34m)\u001b[0m\u001b[0;34m:\u001b[0m\u001b[0;34m\u001b[0m\u001b[0;34m\u001b[0m\u001b[0m\n\u001b[0m\u001b[1;32m    319\u001b[0m         \u001b[0;31m# decode input (taking the buffer into account)\u001b[0m\u001b[0;34m\u001b[0m\u001b[0;34m\u001b[0m\u001b[0;34m\u001b[0m\u001b[0m\n\u001b[1;32m    320\u001b[0m         \u001b[0mdata\u001b[0m \u001b[0;34m=\u001b[0m \u001b[0mself\u001b[0m\u001b[0;34m.\u001b[0m\u001b[0mbuffer\u001b[0m \u001b[0;34m+\u001b[0m \u001b[0minput\u001b[0m\u001b[0;34m\u001b[0m\u001b[0;34m\u001b[0m\u001b[0m\n",
            "\u001b[0;31mKeyboardInterrupt\u001b[0m: "
          ]
        }
      ]
    },
    {
      "metadata": {
        "id": "hrvWpHWZlH_j",
        "colab_type": "text"
      },
      "cell_type": "markdown",
      "source": [
        "Tant els recorreguts com les cerques són eines molt útils, és important saber com aplicar adequadament  aquests  dos  esquemes.\n",
        "\n",
        "Al  llarg  dels  següents  capítols  es  plantegen nombrosos  exemples  on, a  priori,  l'aplicació de  cerques  i recorreguts pot  parèixer  estranya, però un examen detallat dels detalls dels problemes revelarà que sempre es pot   interpretar   el   problema   considerant   que   es   tracta   de   manejar   una   seqüència d'elements d'un determinat tipus."
      ]
    }
  ]
}