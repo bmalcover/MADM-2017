{
  "nbformat": 4,
  "nbformat_minor": 0,
  "metadata": {
    "colab": {
      "name": "Tema5_classes.ipynb",
      "version": "0.3.2",
      "provenance": [],
      "include_colab_link": true
    },
    "kernelspec": {
      "name": "python3",
      "display_name": "Python 3"
    }
  },
  "cells": [
    {
      "cell_type": "markdown",
      "metadata": {
        "id": "view-in-github",
        "colab_type": "text"
      },
      "source": [
        "<a href=\"https://colab.research.google.com/github/bmalcover/MADM-2017/blob/master/Tema5_classes.ipynb\" target=\"_parent\"><img src=\"https://colab.research.google.com/assets/colab-badge.svg\" alt=\"Open In Colab\"/></a>"
      ]
    },
    {
      "metadata": {
        "id": "luOLvtNTrj0x",
        "colab_type": "text"
      },
      "cell_type": "markdown",
      "source": [
        "#Classes i Objectes\n",
        "\n",
        "El concepte de tipus de dades estructurats s’amplia amb la incorporació dels conceptes propis de l’orientació a objectes, les **classes** i les seves instàncies, els **objectes**.  \n",
        "\n",
        "Per arribar al concepte de classe primerament s’ha de parlar del concepte de **Tipus Abstracte de Dades** (TAD). Un Tipus Abstracte de Dades es caracteritza per:\n",
        "\n",
        "* Exporta un  o més tipus, elementals o no.\n",
        "* Exporta un conjunt d’operacions. El que es coneix com interfície.\n",
        "* Les operacions de la interfície són les úniques que estan permeses pel tipus exportat. \n",
        "* No existeix cap altre mecanisme d’accés a l’estructura de dades definida.\n",
        "\n",
        "\n",
        "Es pot considerar una Classe com un Tipus Abstracte de Dades.\n",
        "\n",
        "Quan es parla dels **valors** que es representen amb una classe es parla dels **atributs** \n",
        "Quan es parla de les **operacions** es parla dels **mètodes**.\n",
        "\n",
        "Existeix un tipus especial de mètodes, els mètodes que serveixen per construir els objectes, són els anomenats Constructors. Un constructor té la característica especial que el valor resultat de la seva invocació és un nou objecte instància de la classe. Una altra característica dels constructors és que no són invocats directament sinó que són invocats quan es creen noves instàncies de la classe.\n",
        "\n",
        "Per il·lustrar els conceptes plantejats, un bon exemple és la definició d'una classe:"
      ]
    },
    {
      "metadata": {
        "id": "r3uHBPLSrag1",
        "colab_type": "code",
        "colab": {}
      },
      "cell_type": "code",
      "source": [
        "class Persona:\n",
        "  \n",
        "  ''' \n",
        "  El metode __init__ es un metode especial de Python que serveix per definir com\n",
        "  es construeix un objecte. Només el podem crear dins una classe.\n",
        "  Hi definirem els atributs de la classe.\n",
        "  '''\n",
        "  \n",
        "  def __init__(self, ed, pe, al): # notau l'us del parametre self\n",
        "    \n",
        "        self.edat = ed\n",
        "        self.pes = pe\n",
        "        self.alt = al # la alcada es en cm\n",
        "      "
      ],
      "execution_count": 0,
      "outputs": []
    },
    {
      "metadata": {
        "id": "Wj4soykLvYpq",
        "colab_type": "text"
      },
      "cell_type": "markdown",
      "source": [
        "Per poder utilitzar les classes, és necessari realitzar una instanciació de manera que es construeix un Objecte. \n",
        "\n",
        "Les variables s’utilitzen **per fer referència** als objectes creats.\n"
      ]
    },
    {
      "metadata": {
        "id": "VgE_d4t-waf9",
        "colab_type": "code",
        "outputId": "8d30cf78-8033-4de1-b014-c84290f89306",
        "colab": {
          "base_uri": "https://localhost:8080/",
          "height": 52
        }
      },
      "cell_type": "code",
      "source": [
        "# Creació d'un objecte persona amb referencia p1\n",
        "p1 = Persona(32, 72, 180)\n",
        "# Creació d'un objecte persona amb referencia p2\n",
        "p2 = Persona(41, 134, 152)\n",
        "\n",
        "# p1 i p2 no tenen valor, son referencies\n",
        "print(p1)\n",
        "print(p2)"
      ],
      "execution_count": 0,
      "outputs": [
        {
          "output_type": "stream",
          "text": [
            "<__main__.Persona object at 0x7fe4d3fbe128>\n",
            "<__main__.Persona object at 0x7fe4d3fbe198>\n"
          ],
          "name": "stdout"
        }
      ]
    },
    {
      "metadata": {
        "id": "SUCy4SUSxMvF",
        "colab_type": "text"
      },
      "cell_type": "markdown",
      "source": [
        "Podem accedir als atributs d'una classe usant el punt."
      ]
    },
    {
      "metadata": {
        "id": "F_ob9-qzxNU-",
        "colab_type": "code",
        "outputId": "f41852bd-db51-409f-9136-a25e0db177a2",
        "colab": {
          "base_uri": "https://localhost:8080/",
          "height": 52
        }
      },
      "cell_type": "code",
      "source": [
        "print(\"Edat \" + str(p1.edat) + \" - Pes: \" + str(p1.pes))\n",
        "print(\"Edat \" + str(p2.edat) + \" - Pes: \" + str(p2.pes))"
      ],
      "execution_count": 0,
      "outputs": [
        {
          "output_type": "stream",
          "text": [
            "Edat 32 - Pes: 72\n",
            "Edat 41 - Pes: 134\n"
          ],
          "name": "stdout"
        }
      ]
    },
    {
      "metadata": {
        "id": "tGSwr1bgyE3b",
        "colab_type": "text"
      },
      "cell_type": "markdown",
      "source": [
        "Hem dit que una de les coses que caracteritza un TAD és la capacitat de definir interficies, es a dir operacions sobre les nostres dades:\n",
        "\n",
        "En definirem algunes i a continuació les implementarem\n",
        "\n",
        "* Calcular el IMC\n",
        "* Saber si una persona és major d'edat\n",
        "* Donades dues persones, saber qui és més vell\n",
        "* Mostrar per pantalla la informació d'un objecte\n"
      ]
    },
    {
      "metadata": {
        "id": "0Wxgh-a59s3n",
        "colab_type": "code",
        "outputId": "07388194-4631-4f8f-83c0-6676c4ebc767",
        "colab": {
          "base_uri": "https://localhost:8080/",
          "height": 86
        }
      },
      "cell_type": "code",
      "source": [
        "class Persona:\n",
        "  \n",
        "  def __init__(self, ed, pe, al): \n",
        "        # Atributs de la meva classe\n",
        "        self.edat = ed\n",
        "        self.pes = pe\n",
        "        self.alt = al # la alcada es en cm\n",
        "\n",
        "  '''\n",
        "  Metodes de la meva classe\n",
        "    Els metodes que usen la informacio de l'objecte tenen el seu primer parametre\n",
        "    anomenat self\n",
        "  '''\n",
        "  def IMC(self): \n",
        "        return self.pes/(self.alt*self.alt)\n",
        "    \n",
        "  def es_major_edat(self):\n",
        "        return self.edat >= 18\n",
        "  \n",
        "  def es_major(self, o):\n",
        "    \n",
        "    return self.edat > o.edat\n",
        "    \n",
        "  def imprimir(self):\n",
        "    \n",
        "    print(\"Edat \" + str(self.edat) + \" - Pes: \" + str(self.pes))\n",
        "    \n",
        "\n",
        "    \n",
        "\n",
        "p = Persona(19, 75, 1.75)\n",
        "\n",
        "# Ara per ara puc accedir als atributs, tant per consultar com per modificar\n",
        "p.pes = 45\n",
        "\n",
        "# Com feiem amb les llistes jo puc operar sobre els atributs dels objectes\n",
        "p.imprimir()\n",
        "\n",
        "print(p.IMC())\n",
        "print(p.es_major_edat())\n",
        "\n",
        "p2 = Persona(18, 49, 1.52)\n",
        "\n",
        "if p.es_major(p2):\n",
        "  print(\"P es major\")\n",
        "\n",
        "else:\n",
        "  print(\"P no es major\")\n",
        "    \n",
        "      "
      ],
      "execution_count": 0,
      "outputs": [
        {
          "output_type": "stream",
          "text": [
            "Edat 19 - Pes: 45\n",
            "14.693877551020408\n",
            "True\n",
            "P es major\n"
          ],
          "name": "stdout"
        }
      ]
    },
    {
      "metadata": {
        "id": "jIxfKKX2E7r4",
        "colab_type": "text"
      },
      "cell_type": "markdown",
      "source": [
        "A més del métode `__init__` Python ens n'ofereix d'altres que ens permetran simplificar la interacció amb els objectes.\n",
        "Per acabar aquesta introducció a les classes veurem el mètode `__str__`"
      ]
    },
    {
      "metadata": {
        "id": "N5GXT3zoFihO",
        "colab_type": "code",
        "outputId": "b186df0e-c637-4615-8023-e3c97c9b38a9",
        "colab": {
          "base_uri": "https://localhost:8080/",
          "height": 34
        }
      },
      "cell_type": "code",
      "source": [
        "class Persona:\n",
        "  \n",
        "  def __init__(self, ed, pe, al): \n",
        "        # Atributs de la meva classe\n",
        "        self.edat = ed\n",
        "        self.pes = pe\n",
        "        self.alt = al # la alcada es en cm\n",
        "\n",
        "  '''\n",
        "  Metodes de la meva classe\n",
        "    Els metodes que usen la informacio de l'objecte tenen el seu primer parametre\n",
        "    anomenat self\n",
        "  '''\n",
        "  def IMC(self): \n",
        "        return self.pes/(self.alt*self.alt)\n",
        "    \n",
        "  def es_major_edat(self):\n",
        "        return self.edat >= 18\n",
        "  \n",
        "  def es_major(self, o):\n",
        "    \n",
        "    return self.edat > o.edat\n",
        "    \n",
        "  # Aquest métode sempre HA DE retornar un string\n",
        "  def __str__(self):\n",
        "    \n",
        "    return \"Edat \" + str(self.edat) + \" - Alt:\"+ str(self.pes) +\" - Pes: \" + str(self.pes)\n",
        "  \n",
        "  \n",
        "  \n",
        "p = Persona(22, 80, 191)\n",
        "\n",
        "# Això ens permet mostrar la informació d'un objecte de la següent manera:\n",
        "\n",
        "\n",
        "print(p)\n",
        "    "
      ],
      "execution_count": 0,
      "outputs": [
        {
          "output_type": "stream",
          "text": [
            "Edat 22 - Alt:80 - Pes: 80\n"
          ],
          "name": "stdout"
        }
      ]
    },
    {
      "metadata": {
        "id": "f9ATTIylFddN",
        "colab_type": "text"
      },
      "cell_type": "markdown",
      "source": [
        "## Strings\n",
        "\n",
        "Els *strings* són un tipus de dades estructurats. Bàsicament són seqüències de caràcters que típicament serveixen **per donar informació a l'usuari**.\n",
        "\n",
        "Com ja sabem, es poden delimitar literals de cadenes utilitzant les cometes simples o dobles. \n",
        "\n",
        "Així com les tuples, els strings són immutables. Es a dir que un cop hem construit un string el podem usar però no canviar el seu valor.\n"
      ]
    },
    {
      "metadata": {
        "id": "HMY4yfwexNQX",
        "colab_type": "code",
        "colab": {
          "base_uri": "https://localhost:8080/",
          "height": 298
        },
        "outputId": "34186d26-95c2-4f38-d588-0ee3a5715e47"
      },
      "cell_type": "code",
      "source": [
        "#Creació d'un string per asignació directa\n",
        "cadena_0 = \"hola\"\n",
        "cadena_1 = \"caracola\"\n",
        "#Creació d'un string per concatenació de strings\n",
        "resultat = \"hola\" + \" \" + \"caracola\"\n",
        "\n",
        "# Així com les llistes podem indexar els strings\n",
        "print(resultat[0])\n",
        "\n",
        "# Els strings també tenen funcions \n",
        "print(len(resultat))\n",
        "\n",
        "\n",
        "for i in resultat:\n",
        "  print(i)"
      ],
      "execution_count": 1,
      "outputs": [
        {
          "output_type": "stream",
          "text": [
            "h\n",
            "13\n",
            "h\n",
            "o\n",
            "l\n",
            "a\n",
            " \n",
            "c\n",
            "a\n",
            "r\n",
            "a\n",
            "c\n",
            "o\n",
            "l\n",
            "a\n"
          ],
          "name": "stdout"
        }
      ]
    },
    {
      "metadata": {
        "id": "TEK5sVepzZpv",
        "colab_type": "text"
      },
      "cell_type": "markdown",
      "source": [
        "Encara que nosaltres no farem molta més feina amb els strings, [aquí teniu un](https://realpython.com/python-strings/#built-in-string-functions) enllaç amb un tutorial on expliquen les múltiples possibilitats que aquests ens ofereixen."
      ]
    },
    {
      "metadata": {
        "id": "WL-NuIE212Ll",
        "colab_type": "text"
      },
      "cell_type": "markdown",
      "source": [
        "### Classe dels nombres complexos\n",
        "\n",
        "Com sabem, els llenguatges de programació no tenen cap tipus elemental que ens permeti treballar amb nombres complexos. \n",
        "\n",
        "Aprofitarem per crear el nostre tipus de dades i definir les operacions de:\n",
        "\n",
        "* suma\n",
        "* resta\n",
        "* multiplicació\n",
        "* mostrar per pantalla (imprimir)"
      ]
    },
    {
      "metadata": {
        "id": "hx5H2RsJ2J6N",
        "colab_type": "code",
        "colab": {
          "base_uri": "https://localhost:8080/",
          "height": 92
        },
        "outputId": "194c8f68-a7e5-4e56-a9a6-f0096605f5cc"
      },
      "cell_type": "code",
      "source": [
        "class Complejo:\n",
        "    def __init__(self, r, i): # Constructor\n",
        "        # Atributs\n",
        "        self.real = r\n",
        "        self.imaginaria = i\n",
        "        \n",
        "    # Metodes\n",
        "    def suma(self, o): # Fixau-vos que aquest métode retorna un objecte del tipus complexe\n",
        "        return Complejo(self.real + o.real, self.imaginaria + o.imaginaria)\n",
        "      \n",
        "    def resta(self, o):\n",
        "        return Complejo(self.real-o.real, self.imaginaria-o.imaginaria)\n",
        "      \n",
        "    def multiplica(self, o):\n",
        "        return Complejo(self.real*o.real-self.imaginaria*o.imaginaria, self.real*o.imaginaria + self.imaginaria*o.real)\n",
        "   \n",
        "    def imprimir(self):\n",
        "        print(self)\n",
        "        \n",
        "    def __str__(self):\n",
        "        if (self.imaginaria < 0):\n",
        "            return '(' + str(self.real) + str(self.imaginaria) + 'i)'\n",
        "        else:\n",
        "            return '(' + str(self.real) + '+' + str(self.imaginaria) + 'i)'\n",
        "\n",
        "          \n",
        "c1 = Complejo(2,3)\n",
        "c2 = Complejo(4,7)\n",
        "\n",
        "c3 = c1.suma(c2)\n",
        "\n",
        "c1.imprimir()\n",
        "c2.imprimir()\n",
        "c3.imprimir()\n",
        "\n",
        "c4 = c1.multiplica(c2)\n",
        "\n",
        "c4.imprimir()\n"
      ],
      "execution_count": 6,
      "outputs": [
        {
          "output_type": "stream",
          "text": [
            "(2+3i)\n",
            "(4+7i)\n",
            "(6+10i)\n",
            "(-13+26i)\n"
          ],
          "name": "stdout"
        }
      ]
    }
  ]
}