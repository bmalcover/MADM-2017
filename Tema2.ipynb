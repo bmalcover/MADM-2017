{
  "nbformat": 4,
  "nbformat_minor": 0,
  "metadata": {
    "colab": {
      "name": "Tema2.ipynb",
      "version": "0.3.2",
      "provenance": [],
      "collapsed_sections": [],
      "toc_visible": true
    },
    "kernelspec": {
      "name": "python3",
      "display_name": "Python 3"
    }
  },
  "cells": [
    {
      "metadata": {
        "id": "4IKDSrdcNaHY",
        "colab_type": "text"
      },
      "cell_type": "markdown",
      "source": [
        "# Tema 2 Components del llenguatge\n",
        "\n",
        "Un programa es pot veure com a un conjunt d'operacions que s'han d'aplicar a unes certes dades en un cert ordre.\n",
        "\n",
        "En aquest tema veurem:\n",
        "- Tipus de dades que podem tractar.\n",
        "- Tipus d'operacions que es poden utilitzar entre aquestes dades.\n",
        "- Mecanismes per controlar l'ordre d'execució de les instruccions"
      ]
    },
    {
      "metadata": {
        "id": "o14mTyL1N9O9",
        "colab_type": "text"
      },
      "cell_type": "markdown",
      "source": [
        "## Variables\n",
        "\n",
        "Les dades que s'utilitzen dins els programes es guarden dins el que s'anomenen variables.\n",
        "\n",
        "Tenen tres característiques que les defineixen completament: nom tipus i valor.\n",
        "\n",
        "### Nom\n",
        "\n",
        "Combinació de caràcters, dígits i el signe de subratllat _ que permeten identificar una variable.Tot nom ha de començar per un caràcter.\n",
        "\n",
        "**Exemples de noms vàlids**: x, y, var, var2, var_2, preu_de_cost\n",
        "\n",
        "**Exemples de noms invàlids**: 14_de_maig , 35a , +set, capitol 14, pàtata\n",
        "\n",
        "Hem de pensar que hi ha una sèrie de noms que Python utilitza com a part del llenguatge,  a continuació els podeu veure:\n",
        "\n"
      ]
    },
    {
      "metadata": {
        "id": "3QZN1Z8NV9XM",
        "colab_type": "text"
      },
      "cell_type": "markdown",
      "source": [
        "<table>\n",
        "<thead>\n",
        "<tr>\n",
        "<th>Paraules clau Python</th>\n",
        "<th>&nbsp;</th>\n",
        "<th>&nbsp;</th>\n",
        "<th>&nbsp;</th>\n",
        "</tr>\n",
        "</thead>\n",
        "<tbody>\n",
        "<tr>\n",
        "<td><code>False</code></td>\n",
        "<td><code>def</code></td>\n",
        "<td><code>if</code></td>\n",
        "<td><code>raise</code></td>\n",
        "</tr>\n",
        "<tr>\n",
        "<td><code>None</code></td>\n",
        "<td><code>del</code></td>\n",
        "<td><code>import</code></td>\n",
        "<td><code>return</code></td>\n",
        "</tr>\n",
        "<tr>\n",
        "<td><code>True</code></td>\n",
        "<td><code>elif</code></td>\n",
        "<td><code>in</code></td>\n",
        "<td><code>try</code></td>\n",
        "</tr>\n",
        "<tr>\n",
        "<td><code>and</code></td>\n",
        "<td><code>else</code></td>\n",
        "<td><code>is</code></td>\n",
        "<td><code>while</code></td>\n",
        "</tr>\n",
        "<tr>\n",
        "<td><code>as</code></td>\n",
        "<td><code>except</code></td>\n",
        "<td><code>lambda</code></td>\n",
        "<td><code>with</code></td>\n",
        "</tr>\n",
        "<tr>\n",
        "<td><code>assert</code></td>\n",
        "<td><code>finally</code></td>\n",
        "<td><code>nonlocal</code></td>\n",
        "<td><code>yield</code></td>\n",
        "</tr>\n",
        "<tr>\n",
        "<td><code>break</code></td>\n",
        "<td><code>for</code></td>\n",
        "<td><code>not</code></td>\n",
        "<td></td>\n",
        "</tr>\n",
        "<tr>\n",
        "<td><code>class</code></td>\n",
        "<td><code>from</code></td>\n",
        "<td><code>or</code></td>\n",
        "<td></td>\n",
        "</tr>\n",
        "<tr>\n",
        "<td><code>continue</code></td>\n",
        "<td><code>global</code></td>\n",
        "<td><code>pass</code></td>\n",
        "<td></td>\n",
        "</tr>\n",
        "</tbody>\n",
        " </table>\n"
      ]
    },
    {
      "metadata": {
        "id": "QYmFrq7ESkUi",
        "colab_type": "text"
      },
      "cell_type": "markdown",
      "source": [
        "\n",
        "\n",
        "### Tipus\n",
        "\n",
        "El tipus defineix la natura dels valors pot tenir una variable, també les operacions que es poden fer amb elles.\n",
        "\n",
        "Els tipus de dades elementals són: caràcter, enter, real i booleà:\n",
        "\n",
        "- **Caràcter**: caràcters simples i cadenes de caràcters, es representen entre comes. Al món de la programació ho coneixem com a _Strings_ (_Str_).\n",
        "- **Enter**: valors numèrics tant positius com negatius. -33, 14, 28 o 8545445. Coneguts com Integer (_int_).\n",
        "- **Real**:  valors decimals. -1.2, 3.1416, -0.26989 Coneguts com a Float (_float_).\n",
        "- **Booleà**: poden tenir únicament dos valors:veritat (_True_) o fals (_False_).\n"
      ]
    },
    {
      "metadata": {
        "id": "AcIDJdkOQuxt",
        "colab_type": "code",
        "outputId": "de53289c-eb4f-4460-f23d-d40bdd336660",
        "colab": {
          "base_uri": "https://localhost:8080/",
          "height": 91
        }
      },
      "cell_type": "code",
      "source": [
        "# Veurem els tipus dins Python, aprofitam per definir les primeres variables\n",
        "\n",
        "caracter = 'a'\n",
        "enter = 123\n",
        "decimal = 1.23\n",
        "boolea = True\n",
        "\n",
        "#Aquest codi no es rellevant per a nosaltres.\n",
        "print(type(caracter))\n",
        "print(type(enter))\n",
        "print(type(decimal))\n",
        "print(type(boolea))\n",
        "\n"
      ],
      "execution_count": 0,
      "outputs": [
        {
          "output_type": "stream",
          "text": [
            "<class 'str'>\n",
            "<class 'int'>\n",
            "<class 'float'>\n",
            "<class 'bool'>\n"
          ],
          "name": "stdout"
        }
      ]
    },
    {
      "metadata": {
        "id": "_gJ5wONJT3FD",
        "colab_type": "text"
      },
      "cell_type": "markdown",
      "source": [
        "## Declaracions de variables\n",
        "\n",
        "El programador ha de dir quantes variables i de quins tipus vol utilitzar. \n",
        "\n",
        "L'especificació d'aquestes variables s'anomena una declaració. \n",
        "\n",
        "Normalment, aquestes declaracions es fan a l'inici del programa i, com a mínim, s'ha de definir el nom i s’ha d’assignar un valor inicial. Si no es vol (o no és pot) assignar un valor, tenim el valor nul:  **None**."
      ]
    },
    {
      "metadata": {
        "id": "6S0DUax1URt3",
        "colab_type": "text"
      },
      "cell_type": "markdown",
      "source": [
        "## Operadors\n",
        "A Python, els operadors són símbols especials que designen que cal fer algun tipus de computació. Els valors amb els quals actua un operador s'anomenen operands.\n",
        "\n",
        "A continuació en teniu un exemple:\n"
      ]
    },
    {
      "metadata": {
        "id": "jzDv62Mc6J2F",
        "colab_type": "code",
        "outputId": "27aa40f2-6858-4fd8-aa9f-aaaf91309a73",
        "colab": {
          "base_uri": "https://localhost:8080/",
          "height": 34
        }
      },
      "cell_type": "code",
      "source": [
        "x = 10\n",
        "y = 20\n",
        "\n",
        "r = x + y\n",
        "r"
      ],
      "execution_count": 0,
      "outputs": [
        {
          "output_type": "execute_result",
          "data": {
            "text/plain": [
              "30"
            ]
          },
          "metadata": {
            "tags": []
          },
          "execution_count": 3
        }
      ]
    },
    {
      "metadata": {
        "id": "GYva_xQe6ak3",
        "colab_type": "text"
      },
      "cell_type": "markdown",
      "source": [
        "\n",
        "En aquest cas, l'operador **+** ens permet su els operands a i b junts. Un operant pot ser un valor literal o una variable."
      ]
    },
    {
      "metadata": {
        "id": "uDAGl-116QNU",
        "colab_type": "code",
        "outputId": "fea779e8-3f63-498f-e206-650ae7f6a828",
        "colab": {
          "base_uri": "https://localhost:8080/",
          "height": 34
        }
      },
      "cell_type": "code",
      "source": [
        "a = 10\n",
        "b = 20\n",
        "r = a + b - 5\n",
        "\n",
        "r "
      ],
      "execution_count": 0,
      "outputs": [
        {
          "output_type": "execute_result",
          "data": {
            "text/plain": [
              "25"
            ]
          },
          "metadata": {
            "tags": []
          },
          "execution_count": 4
        }
      ]
    },
    {
      "metadata": {
        "id": "1hT4qF0g68Bb",
        "colab_type": "text"
      },
      "cell_type": "markdown",
      "source": [
        "Una seqüència d'operands i operadors, com a + b - 5, s'anomena **expressió**. \n",
        "\n",
        "Python admet molts operadors per combinar objectes de dades en expressions.\n",
        "\n",
        "A continuació els veurem:"
      ]
    },
    {
      "metadata": {
        "id": "xAOOjalo7Q9a",
        "colab_type": "text"
      },
      "cell_type": "markdown",
      "source": [
        "\n",
        "### Operadors aritmètics\n",
        "\n",
        "<div>\n",
        "<table>\n",
        "<thead>\n",
        "<tr>\n",
        "<th>Operador</th>\n",
        "<th>Exemple</th>\n",
        "<th>Definició</th>\n",
        "<th>Resultat</th>\n",
        "</tr>\n",
        "</thead>\n",
        "<tbody>\n",
        "<tr>\n",
        "<td><code>+</code>&nbsp;(unari)</td>\n",
        "<td><code>+a</code></td>\n",
        "<td><strong>Unari Positiu</strong></td>\n",
        "<td><code>a</code><br>Realment no fa res. Existeix per complementar la negació unària.</td>\n",
        "</tr>\n",
        "<tr>\n",
        "<td><code>+</code>&nbsp;(binari)</td>\n",
        "<td><code>a + b</code></td>\n",
        "<td><strong>Suma</strong></td>\n",
        "<td>Suma <code>a</code> i <code>b</code></td>\n",
        "</tr>\n",
        "<tr>\n",
        "<td><code>-</code>&nbsp;(unary)</td>\n",
        "<td><code>-a</code></td>\n",
        "<td><strong>Negació unària </strong></td>\n",
        "<td>El mateix valor que <code>a</code>però amb el signe oposat</td>\n",
        "</tr>\n",
        "<tr>\n",
        "<td><code>-</code>&nbsp;(binari)</td>\n",
        "<td><code>a - b</code></td>\n",
        "<td><strong>Resta</strong></td>\n",
        "<td>Resultat de restar <code>b</code>  a l'operand <code>a</code></td>\n",
        "</tr>\n",
        "<tr>\n",
        "<td><code> \\* </code></td>\n",
        "<td><code>a \\* b</code></td>\n",
        "<td><strong>Multiplicació</strong></td>\n",
        "<td>Producte de  <code>a</code> i <code>b</code></td>\n",
        "</tr>\n",
        "<tr>\n",
        "<td><code>/</code></td>\n",
        "<td><code>a / b</code></td>\n",
        "<td><strong>Divisió</strong></td>\n",
        "<td>Quocient de <code>a</code> dividit per <code>b</code>.<br> El resultat sempré és del tipus float <code>float</code>.</td>\n",
        "</tr>\n",
        "<tr>\n",
        "<td><code>%</code></td>\n",
        "<td><code>a % b</code></td>\n",
        "<td><strong>Mòdul</strong></td>\n",
        "<td>Reste de <code>a</code> dividit per  <code>b</code></td>\n",
        "</tr>\n",
        "<tr>\n",
        "<td><code>//</code></td>\n",
        "<td><code>a // b</code></td>\n",
        "<td><strong>Divisió sencera</strong> </td>\n",
        "<td>Quocient de dividir <code>a</code> entre <code>b</code>, arrodonit al següent número sencer més petit</td>\n",
        "</tr>\n",
        "<tr>\n",
        "<td><code> \\*\\*</code></td>\n",
        "<td><code>a \\*\\* b</code></td>\n",
        "<td><strong>Exponent</strong></td>\n",
        "<td><code>a</code> elevat a  <code>b</code></td>\n",
        "</tr>\n",
        "</tbody>\n",
        "</table>\n",
        "</div>\n",
        "\n",
        "Ara veurem algún exemple d'ús:"
      ]
    },
    {
      "metadata": {
        "id": "tB_b1kFl9C_t",
        "colab_type": "code",
        "colab": {}
      },
      "cell_type": "code",
      "source": [
        ""
      ],
      "execution_count": 0,
      "outputs": []
    },
    {
      "metadata": {
        "id": "mIyp79mW9S0B",
        "colab_type": "text"
      },
      "cell_type": "markdown",
      "source": [
        "### Operadors de comparació\n",
        "\n",
        "<div class=\"table-responsive\">\n",
        "<table class=\"table table-hover\">\n",
        "<thead>\n",
        "<tr>\n",
        "<th>Operador</th>\n",
        "<th>Exemple</th>\n",
        "<th>Definició</th>\n",
        "<th>Resultat</th>\n",
        "</tr>\n",
        "</thead>\n",
        "<tbody>\n",
        "<tr>\n",
        "<td><code>==</code></td>\n",
        "<td><code>a == b</code></td>\n",
        "<td><strong>Igual</strong></td>\n",
        "<td><code>True</code> si el valor de  <code>a</code> és igual al valor de <code>b</code><br><code>False</code> en cas contrari</td>\n",
        "</tr>\n",
        "<tr>\n",
        "<td><code>!=</code></td>\n",
        "<td><code>a != b</code></td>\n",
        "<td><strong>Diferent</strong></td>\n",
        "<td><code>True</code> si el valor de <code>a</code> és diferent a <code>b</code><br><code>False</code> en cas contrari</td>\n",
        "</tr>\n",
        "<tr>\n",
        "<td><code>&lt;</code></td>\n",
        "<td><code>a &lt; b</code></td>\n",
        "<td><strong>Menor</strong></td>\n",
        "<td><code>True</code> si el valor de <code>a</code> és menor a <code>b</code><br><code>False</code> en cas contrari</td>\n",
        "</tr>\n",
        "<tr>\n",
        "<td><code>&lt;=</code></td>\n",
        "<td><code>a &lt;= b</code></td>\n",
        "<td><strong>Menor o igual a </strong></td>\n",
        "<td><code>True</code> si el valor de <code>a</code>és menor o igual a <code>b</code><br><code>False</code> en cas contrari</td>\n",
        "</tr>\n",
        "<tr>\n",
        "<td><code>&gt;</code></td>\n",
        "<td><code>a &gt; b</code></td>\n",
        "<td><strong>Major</strong></td>\n",
        "<td><code>True</code> si el valor de <code>a</code> és major a <code>b</code><br><code>False</code> en cas contrari</td>\n",
        "</tr>\n",
        "<tr>\n",
        "<td><code>&gt;=</code></td>\n",
        "<td><code>a &gt;= b</code></td>\n",
        "<td><strong>Major o igual a</strong></td>\n",
        "<td><code>True</code> si el valor de <code>a</code> iés major o igual a <code>b</code><br><code>False</code> en cas contrari</td>\n",
        "</tr>\n",
        "</tbody>\n",
        "</table>\n",
        "</div>\n",
        "\n"
      ]
    },
    {
      "metadata": {
        "id": "u0Cp-GkOJHGc",
        "colab_type": "code",
        "colab": {}
      },
      "cell_type": "code",
      "source": [
        ""
      ],
      "execution_count": 0,
      "outputs": []
    },
    {
      "metadata": {
        "id": "YlJBrldmJHSH",
        "colab_type": "text"
      },
      "cell_type": "markdown",
      "source": [
        "## Operadors lògics\n",
        "\n",
        "Els operadors lògics _not_ , _or_ i _and_ modifiquen i uneixen expressions avaluades en  un context booleà per crear condicions més complexes.\n",
        "\n",
        "\n",
        "**Expressions lògiques que inclouen operands booleans**\n",
        "\n",
        "Com heu vist, algunes expressions de Python són, en realitat, de tipus booleà. És a dir, són iguals a un dels objectes Python True or False. \n",
        "\n",
        "Per exemple:"
      ]
    },
    {
      "metadata": {
        "id": "OH0uNLeuU1B-",
        "colab_type": "code",
        "outputId": "c3387fc6-c5d0-4c78-a9a4-1724eb28b065",
        "colab": {
          "base_uri": "https://localhost:8080/",
          "height": 34
        }
      },
      "cell_type": "code",
      "source": [
        "x = 5\n",
        "\n",
        "x < 10"
      ],
      "execution_count": 0,
      "outputs": [
        {
          "output_type": "execute_result",
          "data": {
            "text/plain": [
              "True"
            ]
          },
          "metadata": {
            "tags": []
          },
          "execution_count": 5
        }
      ]
    },
    {
      "metadata": {
        "id": "0I4Cu6bUU6x2",
        "colab_type": "code",
        "outputId": "0e40c23a-c8d2-4e14-8896-3c58760c661b",
        "colab": {
          "base_uri": "https://localhost:8080/",
          "height": 34
        }
      },
      "cell_type": "code",
      "source": [
        "t = x > 10\n",
        "t"
      ],
      "execution_count": 0,
      "outputs": [
        {
          "output_type": "execute_result",
          "data": {
            "text/plain": [
              "False"
            ]
          },
          "metadata": {
            "tags": []
          },
          "execution_count": 8
        }
      ]
    },
    {
      "metadata": {
        "id": "7ZLUCGl8VTFx",
        "colab_type": "text"
      },
      "cell_type": "markdown",
      "source": [
        "<table >\n",
        "<thead>\n",
        "<tr>\n",
        "<th>Operador</th>\n",
        "<th>Exemple</th>\n",
        "<th>Significat</th>\n",
        "</tr>\n",
        "</thead>\n",
        "<tbody>\n",
        "<tr>\n",
        "<td><code>not</code></td>\n",
        "<td><code>not x</code></td>\n",
        "<td><code>True</code> si <code>x</code> és <code>False</code><br><code>False</code> si <code>x</code> és <code>True</code><br></td>\n",
        "</tr>\n",
        "<tr>\n",
        "<td><code>or</code></td>\n",
        "<td><code>x or y</code></td>\n",
        "<td><code>True</code> si <code>x</code> ò <code>y</code> és  <code>True</code><br><code>False</code> en cas contrari</td>\n",
        "</tr>\n",
        "<tr>\n",
        "<td><code>and</code></td>\n",
        "<td><code>x and y</code></td>\n",
        "<td><code>True</code> si <code>x</code> i  <code>y</code> són <code>True</code><br><code>False</code> en cas contrari </td>\n",
        "</tr>\n",
        "</tbody>\n",
        "</table>\n"
      ]
    },
    {
      "metadata": {
        "id": "mo0rm6PdcW-W",
        "colab_type": "code",
        "colab": {}
      },
      "cell_type": "code",
      "source": [
        "# Exemples dels operadors booleans\n"
      ],
      "execution_count": 0,
      "outputs": []
    },
    {
      "metadata": {
        "id": "G-f4RiqZcXJ_",
        "colab_type": "text"
      },
      "cell_type": "markdown",
      "source": [
        "Un cas que cal comentar és el següent:"
      ]
    },
    {
      "metadata": {
        "id": "MxfzKBalcswB",
        "colab_type": "code",
        "outputId": "60b727d7-f815-499a-b98b-8ec25b509b71",
        "colab": {
          "base_uri": "https://localhost:8080/",
          "height": 34
        }
      },
      "cell_type": "code",
      "source": [
        "a = 0\n",
        "b = 1\n",
        "a != 0 and (b / a) > 0"
      ],
      "execution_count": 0,
      "outputs": [
        {
          "output_type": "execute_result",
          "data": {
            "text/plain": [
              "False"
            ]
          },
          "metadata": {
            "tags": []
          },
          "execution_count": 9
        }
      ]
    },
    {
      "metadata": {
        "id": "ao85rcLYdD7f",
        "colab_type": "text"
      },
      "cell_type": "markdown",
      "source": [
        "## Operadors d'assignació augmentada\n",
        "\n",
        "Heu vist que un signe igual (=) s'utilitza per assignar un valor a una variable. \n",
        "\n",
        "\n",
        "És, per descomptat, perfectament viable que el valor de la dreta de l'assignació sigui una expressió que contingui altres variables:\n",
        "\n",
        "Si feim la operació sobre una mateixa variable podem fer el següent:\n",
        "\n",
        "\n",
        "```\n",
        "x <op>= y\n",
        "x = x <op> y\n",
        "\n",
        "```\n",
        "Es a dir:\n"
      ]
    },
    {
      "metadata": {
        "id": "EZQANE_edYa3",
        "colab_type": "code",
        "outputId": "8cd9ac18-0eab-46f4-e30d-9c928332133c",
        "colab": {
          "base_uri": "https://localhost:8080/",
          "height": 34
        }
      },
      "cell_type": "code",
      "source": [
        "a = 5\n",
        "\n",
        "a += 5 # es el mateix que a = a + 5\n",
        "\n",
        "a"
      ],
      "execution_count": 0,
      "outputs": [
        {
          "output_type": "execute_result",
          "data": {
            "text/plain": [
              "10"
            ]
          },
          "metadata": {
            "tags": []
          },
          "execution_count": 10
        }
      ]
    }
  ]
}